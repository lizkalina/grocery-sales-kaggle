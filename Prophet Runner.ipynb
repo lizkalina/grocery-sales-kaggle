{
 "cells": [
  {
   "cell_type": "code",
   "execution_count": 1,
   "metadata": {},
   "outputs": [],
   "source": [
    "import pandas as pd\n",
    "import numpy as np\n",
    "import os\n",
    "import dask.dataframe as dd\n",
    "import matplotlib.pyplot as plt\n",
    "%matplotlib inline"
   ]
  },
  {
   "cell_type": "code",
   "execution_count": 2,
   "metadata": {},
   "outputs": [
    {
     "name": "stderr",
     "output_type": "stream",
     "text": [
      "/Users/lkalina/anaconda2/lib/python2.7/site-packages/IPython/core/interactiveshell.py:2718: DtypeWarning: Columns (5) have mixed types. Specify dtype option on import or set low_memory=False.\n",
      "  interactivity=interactivity, compiler=compiler, result=result)\n"
     ]
    }
   ],
   "source": [
    "items = dd.read_csv('data/items.csv')\n",
    "holiday = dd.read_csv('data/holidays_events.csv')\n",
    "oil = pd.read_csv('data/oil.csv')\n",
    "stores = dd.read_csv('data/stores.csv')\n",
    "transactions = dd.read_csv('data/transactions.csv')\n",
    "train_set = pd.read_csv('data/train.csv')\n",
    "# test_set = pd.read_csv('data/test.csv')"
   ]
  },
  {
   "cell_type": "code",
   "execution_count": 3,
   "metadata": {},
   "outputs": [],
   "source": [
    "items = pd.read_csv('data/items.csv')"
   ]
  },
  {
   "cell_type": "code",
   "execution_count": 4,
   "metadata": {},
   "outputs": [],
   "source": [
    "train_set = pd.read_csv('data/train.csv')"
   ]
  },
  {
   "cell_type": "code",
   "execution_count": 5,
   "metadata": {},
   "outputs": [
    {
     "data": {
      "text/plain": [
       "array(['2013-01-01', '2013-01-02', '2013-01-03', ..., '2017-08-13',\n",
       "       '2017-08-14', '2017-08-15'], dtype=object)"
      ]
     },
     "execution_count": 5,
     "metadata": {},
     "output_type": "execute_result"
    }
   ],
   "source": [
    "# Wednesday to Wednesday (2 weeks)\n",
    "train_set.date.unique()"
   ]
  },
  {
   "cell_type": "code",
   "execution_count": 6,
   "metadata": {},
   "outputs": [
    {
     "data": {
      "text/html": [
       "<div>\n",
       "<style scoped>\n",
       "    .dataframe tbody tr th:only-of-type {\n",
       "        vertical-align: middle;\n",
       "    }\n",
       "\n",
       "    .dataframe tbody tr th {\n",
       "        vertical-align: top;\n",
       "    }\n",
       "\n",
       "    .dataframe thead th {\n",
       "        text-align: right;\n",
       "    }\n",
       "</style>\n",
       "<table border=\"1\" class=\"dataframe\">\n",
       "  <thead>\n",
       "    <tr style=\"text-align: right;\">\n",
       "      <th></th>\n",
       "      <th>id</th>\n",
       "      <th>date</th>\n",
       "      <th>store_nbr</th>\n",
       "      <th>item_nbr</th>\n",
       "      <th>unit_sales</th>\n",
       "      <th>onpromotion</th>\n",
       "    </tr>\n",
       "  </thead>\n",
       "  <tbody>\n",
       "    <tr>\n",
       "      <th>0</th>\n",
       "      <td>0</td>\n",
       "      <td>2013-01-01</td>\n",
       "      <td>25</td>\n",
       "      <td>103665</td>\n",
       "      <td>7.0</td>\n",
       "      <td>NaN</td>\n",
       "    </tr>\n",
       "    <tr>\n",
       "      <th>1</th>\n",
       "      <td>1</td>\n",
       "      <td>2013-01-01</td>\n",
       "      <td>25</td>\n",
       "      <td>105574</td>\n",
       "      <td>1.0</td>\n",
       "      <td>NaN</td>\n",
       "    </tr>\n",
       "    <tr>\n",
       "      <th>2</th>\n",
       "      <td>2</td>\n",
       "      <td>2013-01-01</td>\n",
       "      <td>25</td>\n",
       "      <td>105575</td>\n",
       "      <td>2.0</td>\n",
       "      <td>NaN</td>\n",
       "    </tr>\n",
       "    <tr>\n",
       "      <th>3</th>\n",
       "      <td>3</td>\n",
       "      <td>2013-01-01</td>\n",
       "      <td>25</td>\n",
       "      <td>108079</td>\n",
       "      <td>1.0</td>\n",
       "      <td>NaN</td>\n",
       "    </tr>\n",
       "    <tr>\n",
       "      <th>4</th>\n",
       "      <td>4</td>\n",
       "      <td>2013-01-01</td>\n",
       "      <td>25</td>\n",
       "      <td>108701</td>\n",
       "      <td>1.0</td>\n",
       "      <td>NaN</td>\n",
       "    </tr>\n",
       "  </tbody>\n",
       "</table>\n",
       "</div>"
      ],
      "text/plain": [
       "   id        date  store_nbr  item_nbr  unit_sales onpromotion\n",
       "0   0  2013-01-01         25    103665         7.0         NaN\n",
       "1   1  2013-01-01         25    105574         1.0         NaN\n",
       "2   2  2013-01-01         25    105575         2.0         NaN\n",
       "3   3  2013-01-01         25    108079         1.0         NaN\n",
       "4   4  2013-01-01         25    108701         1.0         NaN"
      ]
     },
     "execution_count": 6,
     "metadata": {},
     "output_type": "execute_result"
    }
   ],
   "source": [
    "train_set.head()"
   ]
  },
  {
   "cell_type": "code",
   "execution_count": 7,
   "metadata": {},
   "outputs": [],
   "source": [
    "train_set['date'] = pd.to_datetime(train_set['date'])"
   ]
  },
  {
   "cell_type": "code",
   "execution_count": 8,
   "metadata": {},
   "outputs": [
    {
     "data": {
      "text/html": [
       "<div>\n",
       "<style scoped>\n",
       "    .dataframe tbody tr th:only-of-type {\n",
       "        vertical-align: middle;\n",
       "    }\n",
       "\n",
       "    .dataframe tbody tr th {\n",
       "        vertical-align: top;\n",
       "    }\n",
       "\n",
       "    .dataframe thead th {\n",
       "        text-align: right;\n",
       "    }\n",
       "</style>\n",
       "<table border=\"1\" class=\"dataframe\">\n",
       "  <thead>\n",
       "    <tr style=\"text-align: right;\">\n",
       "      <th></th>\n",
       "      <th>id</th>\n",
       "      <th>date</th>\n",
       "      <th>store_nbr</th>\n",
       "      <th>item_nbr</th>\n",
       "      <th>unit_sales</th>\n",
       "      <th>onpromotion</th>\n",
       "    </tr>\n",
       "  </thead>\n",
       "  <tbody>\n",
       "    <tr>\n",
       "      <th>88138659</th>\n",
       "      <td>88138659</td>\n",
       "      <td>2016-08-16</td>\n",
       "      <td>1</td>\n",
       "      <td>105574</td>\n",
       "      <td>3.0</td>\n",
       "      <td>False</td>\n",
       "    </tr>\n",
       "    <tr>\n",
       "      <th>88138660</th>\n",
       "      <td>88138660</td>\n",
       "      <td>2016-08-16</td>\n",
       "      <td>1</td>\n",
       "      <td>105575</td>\n",
       "      <td>13.0</td>\n",
       "      <td>False</td>\n",
       "    </tr>\n",
       "    <tr>\n",
       "      <th>88138661</th>\n",
       "      <td>88138661</td>\n",
       "      <td>2016-08-16</td>\n",
       "      <td>1</td>\n",
       "      <td>105737</td>\n",
       "      <td>1.0</td>\n",
       "      <td>False</td>\n",
       "    </tr>\n",
       "    <tr>\n",
       "      <th>88138662</th>\n",
       "      <td>88138662</td>\n",
       "      <td>2016-08-16</td>\n",
       "      <td>1</td>\n",
       "      <td>105857</td>\n",
       "      <td>8.0</td>\n",
       "      <td>False</td>\n",
       "    </tr>\n",
       "    <tr>\n",
       "      <th>88138663</th>\n",
       "      <td>88138663</td>\n",
       "      <td>2016-08-16</td>\n",
       "      <td>1</td>\n",
       "      <td>106716</td>\n",
       "      <td>1.0</td>\n",
       "      <td>False</td>\n",
       "    </tr>\n",
       "  </tbody>\n",
       "</table>\n",
       "</div>"
      ],
      "text/plain": [
       "                id       date  store_nbr  item_nbr  unit_sales onpromotion\n",
       "88138659  88138659 2016-08-16          1    105574         3.0       False\n",
       "88138660  88138660 2016-08-16          1    105575        13.0       False\n",
       "88138661  88138661 2016-08-16          1    105737         1.0       False\n",
       "88138662  88138662 2016-08-16          1    105857         8.0       False\n",
       "88138663  88138663 2016-08-16          1    106716         1.0       False"
      ]
     },
     "execution_count": 8,
     "metadata": {},
     "output_type": "execute_result"
    }
   ],
   "source": [
    "train_set[(train_set.date > '2016-08-15')].head()"
   ]
  },
  {
   "cell_type": "markdown",
   "metadata": {
    "heading_collapsed": true
   },
   "source": [
    "# Run rolling means for test"
   ]
  },
  {
   "cell_type": "code",
   "execution_count": 2,
   "metadata": {
    "hidden": true
   },
   "outputs": [],
   "source": [
    "import pandas as pd\n",
    "from datetime import timedelta\n",
    "\n",
    "dtypes = {'id':'uint32', 'item_nbr':'int32', 'store_nbr':'int8', 'unit_sales':'float32'}\n",
    "\n",
    "train = pd.read_csv('data/train.csv', usecols=[1,2,3,4], dtype=dtypes, parse_dates=['date'],\n",
    "                    skiprows=range(1, 86672217) #Skip dates before 2016-08-01\n",
    "                    )\n",
    "\n",
    "train.loc[(train.unit_sales<0),'unit_sales'] = 0 # eliminate negatives\n",
    "train['unit_sales'] =  train['unit_sales'].apply(pd.np.log1p) #logarithm conversion\n",
    "train['dow'] = train['date'].dt.dayofweek\n",
    "\n",
    "# creating records for all items, in all markets on all dates\n",
    "# for correct calculation of daily unit sales averages.\n",
    "u_dates = train.date.unique()\n",
    "u_stores = train.store_nbr.unique()\n",
    "u_items = train.item_nbr.unique()\n",
    "train.set_index(['date', 'store_nbr', 'item_nbr'], inplace=True)\n",
    "train = train.reindex(\n",
    "    pd.MultiIndex.from_product(\n",
    "        (u_dates, u_stores, u_items),\n",
    "        names=['date','store_nbr','item_nbr']\n",
    "    )\n",
    ")\n",
    "\n",
    "del u_dates, u_stores, u_items\n",
    "\n",
    "train.loc[:, 'unit_sales'].fillna(0, inplace=True) # fill NaNs\n",
    "train.reset_index(inplace=True) # reset index and restoring unique columns  \n",
    "lastdate = train.iloc[train.shape[0]-1].date\n",
    "\n",
    "#Days of Week Means\n",
    "#By tarobxl: https://www.kaggle.com/c/favorita-grocery-sales-forecasting/discussion/42948\n",
    "ma_dw = train[['item_nbr','store_nbr','dow','unit_sales']].groupby(['item_nbr','store_nbr','dow'])['unit_sales'].mean().to_frame('madw')\n",
    "ma_dw.reset_index(inplace=True)\n",
    "ma_wk = ma_dw[['item_nbr','store_nbr','madw']].groupby(['store_nbr', 'item_nbr'])['madw'].mean().to_frame('mawk')\n",
    "ma_wk.reset_index(inplace=True)\n",
    "\n",
    "#Moving Averages\n",
    "ma_is = train[['item_nbr','store_nbr','unit_sales']].groupby(['item_nbr','store_nbr'])['unit_sales'].mean().to_frame('mais226')\n",
    "for i in [112,56,28,14,7,3,1]:\n",
    "    tmp = train[train.date>lastdate-timedelta(int(i))]\n",
    "    tmpg = tmp.groupby(['item_nbr','store_nbr'])['unit_sales'].mean().to_frame('mais'+str(i))\n",
    "    ma_is = ma_is.join(tmpg, how='left')\n",
    "\n",
    "del tmp,tmpg,train\n",
    "\n",
    "ma_is['mais']=ma_is.median(axis=1)\n",
    "ma_is.reset_index(inplace=True)\n",
    "\n",
    "#Load test\n",
    "test = pd.read_csv('data/test.csv', dtype=dtypes, parse_dates=['date'])\n",
    "test['dow'] = test['date'].dt.dayofweek\n",
    "test = pd.merge(test, ma_is, how='left', on=['item_nbr','store_nbr'])\n",
    "test = pd.merge(test, ma_wk, how='left', on=['item_nbr','store_nbr'])\n",
    "test = pd.merge(test, ma_dw, how='left', on=['item_nbr','store_nbr','dow'])\n",
    "\n",
    "del ma_is, ma_wk, ma_dw\n",
    "\n",
    "#Forecasting Test\n",
    "test['unit_sales'] = test.mais \n",
    "pos_idx = test['mawk'] > 0\n",
    "test_pos = test.loc[pos_idx]\n",
    "test.loc[pos_idx, 'unit_sales'] = test_pos['mais'] * test_pos['madw'] / test_pos['mawk']\n",
    "test.loc[:, \"unit_sales\"].fillna(0, inplace=True)\n",
    "test['unit_sales'] = test['unit_sales'].apply(pd.np.expm1) # restoring unit values \n",
    "\n",
    "#50% more for promotion items\n",
    "test.loc[test['onpromotion'] == True, 'unit_sales'] *= 1.5\n",
    "\n",
    "#test.to_csv('ma8dwof.csv.gz', index=False, float_format='%.3f', compression='gzip')"
   ]
  },
  {
   "cell_type": "code",
   "execution_count": 12,
   "metadata": {
    "hidden": true
   },
   "outputs": [],
   "source": [
    "#test.to_csv('ma8dwof.csv.gz', index=False, float_format='%.3f', compression='gzip')"
   ]
  },
  {
   "cell_type": "code",
   "execution_count": 9,
   "metadata": {
    "hidden": true
   },
   "outputs": [
    {
     "data": {
      "text/html": [
       "<div>\n",
       "<style scoped>\n",
       "    .dataframe tbody tr th:only-of-type {\n",
       "        vertical-align: middle;\n",
       "    }\n",
       "\n",
       "    .dataframe tbody tr th {\n",
       "        vertical-align: top;\n",
       "    }\n",
       "\n",
       "    .dataframe thead th {\n",
       "        text-align: right;\n",
       "    }\n",
       "</style>\n",
       "<table border=\"1\" class=\"dataframe\">\n",
       "  <thead>\n",
       "    <tr style=\"text-align: right;\">\n",
       "      <th></th>\n",
       "      <th>id</th>\n",
       "      <th>date</th>\n",
       "      <th>store_nbr</th>\n",
       "      <th>item_nbr</th>\n",
       "      <th>onpromotion</th>\n",
       "      <th>dow</th>\n",
       "      <th>mais226</th>\n",
       "      <th>mais112</th>\n",
       "      <th>mais56</th>\n",
       "      <th>mais28</th>\n",
       "      <th>mais14</th>\n",
       "      <th>mais7</th>\n",
       "      <th>mais3</th>\n",
       "      <th>mais1</th>\n",
       "      <th>mais</th>\n",
       "      <th>mawk</th>\n",
       "      <th>madw</th>\n",
       "      <th>unit_sales</th>\n",
       "    </tr>\n",
       "  </thead>\n",
       "  <tbody>\n",
       "    <tr>\n",
       "      <th>0</th>\n",
       "      <td>125497040</td>\n",
       "      <td>2017-08-16</td>\n",
       "      <td>1</td>\n",
       "      <td>96995</td>\n",
       "      <td>False</td>\n",
       "      <td>2</td>\n",
       "      <td>0.056869</td>\n",
       "      <td>0.154255</td>\n",
       "      <td>0.172356</td>\n",
       "      <td>0.295202</td>\n",
       "      <td>0.334438</td>\n",
       "      <td>0.099021</td>\n",
       "      <td>0.000000</td>\n",
       "      <td>0.000000</td>\n",
       "      <td>0.126638</td>\n",
       "      <td>0.844024</td>\n",
       "      <td>0.693147</td>\n",
       "      <td>0.109601</td>\n",
       "    </tr>\n",
       "    <tr>\n",
       "      <th>1</th>\n",
       "      <td>125497041</td>\n",
       "      <td>2017-08-16</td>\n",
       "      <td>1</td>\n",
       "      <td>99197</td>\n",
       "      <td>False</td>\n",
       "      <td>2</td>\n",
       "      <td>0.206482</td>\n",
       "      <td>0.470665</td>\n",
       "      <td>0.397257</td>\n",
       "      <td>0.280721</td>\n",
       "      <td>0.206455</td>\n",
       "      <td>0.156945</td>\n",
       "      <td>0.000000</td>\n",
       "      <td>0.000000</td>\n",
       "      <td>0.206469</td>\n",
       "      <td>1.010969</td>\n",
       "      <td>0.977616</td>\n",
       "      <td>0.220984</td>\n",
       "    </tr>\n",
       "    <tr>\n",
       "      <th>2</th>\n",
       "      <td>125497042</td>\n",
       "      <td>2017-08-16</td>\n",
       "      <td>1</td>\n",
       "      <td>103501</td>\n",
       "      <td>False</td>\n",
       "      <td>2</td>\n",
       "      <td>0.000000</td>\n",
       "      <td>0.000000</td>\n",
       "      <td>0.000000</td>\n",
       "      <td>0.000000</td>\n",
       "      <td>0.000000</td>\n",
       "      <td>0.000000</td>\n",
       "      <td>0.000000</td>\n",
       "      <td>0.000000</td>\n",
       "      <td>0.000000</td>\n",
       "      <td>NaN</td>\n",
       "      <td>NaN</td>\n",
       "      <td>0.000000</td>\n",
       "    </tr>\n",
       "    <tr>\n",
       "      <th>3</th>\n",
       "      <td>125497043</td>\n",
       "      <td>2017-08-16</td>\n",
       "      <td>1</td>\n",
       "      <td>103520</td>\n",
       "      <td>False</td>\n",
       "      <td>2</td>\n",
       "      <td>0.760955</td>\n",
       "      <td>0.815118</td>\n",
       "      <td>0.773160</td>\n",
       "      <td>0.726315</td>\n",
       "      <td>0.573577</td>\n",
       "      <td>0.495105</td>\n",
       "      <td>0.231049</td>\n",
       "      <td>0.000000</td>\n",
       "      <td>0.649946</td>\n",
       "      <td>1.114774</td>\n",
       "      <td>1.175135</td>\n",
       "      <td>0.984047</td>\n",
       "    </tr>\n",
       "    <tr>\n",
       "      <th>4</th>\n",
       "      <td>125497044</td>\n",
       "      <td>2017-08-16</td>\n",
       "      <td>1</td>\n",
       "      <td>103665</td>\n",
       "      <td>False</td>\n",
       "      <td>2</td>\n",
       "      <td>1.014494</td>\n",
       "      <td>1.038379</td>\n",
       "      <td>0.996363</td>\n",
       "      <td>1.026335</td>\n",
       "      <td>1.031388</td>\n",
       "      <td>0.980990</td>\n",
       "      <td>0.462098</td>\n",
       "      <td>0.693147</td>\n",
       "      <td>1.005429</td>\n",
       "      <td>1.320085</td>\n",
       "      <td>1.282500</td>\n",
       "      <td>1.655950</td>\n",
       "    </tr>\n",
       "  </tbody>\n",
       "</table>\n",
       "</div>"
      ],
      "text/plain": [
       "          id       date  store_nbr  item_nbr  onpromotion dow   mais226  \\\n",
       "0  125497040 2017-08-16          1     96995        False   2  0.056869   \n",
       "1  125497041 2017-08-16          1     99197        False   2  0.206482   \n",
       "2  125497042 2017-08-16          1    103501        False   2  0.000000   \n",
       "3  125497043 2017-08-16          1    103520        False   2  0.760955   \n",
       "4  125497044 2017-08-16          1    103665        False   2  1.014494   \n",
       "\n",
       "    mais112    mais56    mais28    mais14     mais7     mais3     mais1  \\\n",
       "0  0.154255  0.172356  0.295202  0.334438  0.099021  0.000000  0.000000   \n",
       "1  0.470665  0.397257  0.280721  0.206455  0.156945  0.000000  0.000000   \n",
       "2  0.000000  0.000000  0.000000  0.000000  0.000000  0.000000  0.000000   \n",
       "3  0.815118  0.773160  0.726315  0.573577  0.495105  0.231049  0.000000   \n",
       "4  1.038379  0.996363  1.026335  1.031388  0.980990  0.462098  0.693147   \n",
       "\n",
       "       mais      mawk      madw  unit_sales  \n",
       "0  0.126638  0.844024  0.693147    0.109601  \n",
       "1  0.206469  1.010969  0.977616    0.220984  \n",
       "2  0.000000       NaN       NaN    0.000000  \n",
       "3  0.649946  1.114774  1.175135    0.984047  \n",
       "4  1.005429  1.320085  1.282500    1.655950  "
      ]
     },
     "execution_count": 9,
     "metadata": {},
     "output_type": "execute_result"
    }
   ],
   "source": [
    "test.head()"
   ]
  },
  {
   "cell_type": "markdown",
   "metadata": {},
   "source": [
    "# Run Prophet"
   ]
  },
  {
   "cell_type": "code",
   "execution_count": 9,
   "metadata": {},
   "outputs": [
    {
     "name": "stderr",
     "output_type": "stream",
     "text": [
      "/Users/lkalina/anaconda2/lib/python2.7/site-packages/numpy/lib/arraysetops.py:463: FutureWarning: elementwise comparison failed; returning scalar instead, but in the future will perform elementwise comparison\n",
      "  mask |= (ar1 == a)\n"
     ]
    }
   ],
   "source": [
    "data = pd.read_csv('data/modified/one_store.csv',index_col=0)"
   ]
  },
  {
   "cell_type": "code",
   "execution_count": 10,
   "metadata": {},
   "outputs": [
    {
     "data": {
      "text/plain": [
       "array(['BREAD/BAKERY', 'GROCERY I', 'DELI', 'CLEANING', 'PERSONAL CARE',\n",
       "       'BEVERAGES', 'DAIRY', 'EGGS', 'POULTRY', 'LINGERIE',\n",
       "       'PREPARED FOODS', 'GROCERY II', 'FROZEN FOODS', 'MEATS',\n",
       "       'LIQUOR,WINE,BEER', 'LAWN AND GARDEN', 'BEAUTY', 'AUTOMOTIVE',\n",
       "       'SEAFOOD', 'HARDWARE', 'HOME APPLIANCES', 'PRODUCE',\n",
       "       'HOME AND KITCHEN II', 'HOME AND KITCHEN I', 'MAGAZINES',\n",
       "       'HOME CARE', 'PET SUPPLIES', 'PLAYERS AND ELECTRONICS',\n",
       "       'CELEBRATION', 'SCHOOL AND OFFICE SUPPLIES', 'BABY CARE', 'BOOKS'], dtype=object)"
      ]
     },
     "execution_count": 10,
     "metadata": {},
     "output_type": "execute_result"
    }
   ],
   "source": [
    "data.family.unique()"
   ]
  },
  {
   "cell_type": "code",
   "execution_count": 11,
   "metadata": {},
   "outputs": [
    {
     "name": "stderr",
     "output_type": "stream",
     "text": [
      "/Users/lkalina/anaconda2/lib/python2.7/site-packages/ipykernel/__main__.py:1: RuntimeWarning: invalid value encountered in log\n",
      "  if __name__ == '__main__':\n"
     ]
    }
   ],
   "source": [
    "data['y'] = np.log(data['unit_sales'])\n",
    "data = data[['date','y']].rename(columns={'date':'ds'})"
   ]
  },
  {
   "cell_type": "code",
   "execution_count": 13,
   "metadata": {},
   "outputs": [],
   "source": [
    "import pandas as pd\n",
    "import numpy as np\n",
    "from fbprophet import Prophet"
   ]
  },
  {
   "cell_type": "code",
   "execution_count": 14,
   "metadata": {},
   "outputs": [
    {
     "data": {
      "text/html": [
       "<div>\n",
       "<style scoped>\n",
       "    .dataframe tbody tr th:only-of-type {\n",
       "        vertical-align: middle;\n",
       "    }\n",
       "\n",
       "    .dataframe tbody tr th {\n",
       "        vertical-align: top;\n",
       "    }\n",
       "\n",
       "    .dataframe thead th {\n",
       "        text-align: right;\n",
       "    }\n",
       "</style>\n",
       "<table border=\"1\" class=\"dataframe\">\n",
       "  <thead>\n",
       "    <tr style=\"text-align: right;\">\n",
       "      <th></th>\n",
       "      <th>item_nbr</th>\n",
       "      <th>family</th>\n",
       "      <th>class</th>\n",
       "      <th>perishable</th>\n",
       "    </tr>\n",
       "  </thead>\n",
       "  <tbody>\n",
       "    <tr>\n",
       "      <th>0</th>\n",
       "      <td>96995</td>\n",
       "      <td>GROCERY I</td>\n",
       "      <td>1093</td>\n",
       "      <td>0</td>\n",
       "    </tr>\n",
       "    <tr>\n",
       "      <th>1</th>\n",
       "      <td>99197</td>\n",
       "      <td>GROCERY I</td>\n",
       "      <td>1067</td>\n",
       "      <td>0</td>\n",
       "    </tr>\n",
       "    <tr>\n",
       "      <th>2</th>\n",
       "      <td>103501</td>\n",
       "      <td>CLEANING</td>\n",
       "      <td>3008</td>\n",
       "      <td>0</td>\n",
       "    </tr>\n",
       "    <tr>\n",
       "      <th>3</th>\n",
       "      <td>103520</td>\n",
       "      <td>GROCERY I</td>\n",
       "      <td>1028</td>\n",
       "      <td>0</td>\n",
       "    </tr>\n",
       "    <tr>\n",
       "      <th>4</th>\n",
       "      <td>103665</td>\n",
       "      <td>BREAD/BAKERY</td>\n",
       "      <td>2712</td>\n",
       "      <td>1</td>\n",
       "    </tr>\n",
       "  </tbody>\n",
       "</table>\n",
       "</div>"
      ],
      "text/plain": [
       "   item_nbr        family  class  perishable\n",
       "0     96995     GROCERY I   1093           0\n",
       "1     99197     GROCERY I   1067           0\n",
       "2    103501      CLEANING   3008           0\n",
       "3    103520     GROCERY I   1028           0\n",
       "4    103665  BREAD/BAKERY   2712           1"
      ]
     },
     "execution_count": 14,
     "metadata": {},
     "output_type": "execute_result"
    }
   ],
   "source": [
    "items.head()"
   ]
  },
  {
   "cell_type": "code",
   "execution_count": 15,
   "metadata": {},
   "outputs": [],
   "source": [
    "#df[df.onpromotion].unit_sales.max()\n",
    "#df = df[['date','y']].rename(columns={'date':'ds'})\n",
    "train_set = train_set.merge(items,on='item_nbr',how='left')"
   ]
  },
  {
   "cell_type": "code",
   "execution_count": 16,
   "metadata": {},
   "outputs": [
    {
     "name": "stderr",
     "output_type": "stream",
     "text": [
      "/Users/lkalina/anaconda2/lib/python2.7/site-packages/ipykernel/__main__.py:2: RuntimeWarning: invalid value encountered in log\n",
      "  from ipykernel import kernelapp as app\n"
     ]
    }
   ],
   "source": [
    "#train_set = pd.read_csv('data/train.csv')\n",
    "train_set['y'] = np.log(train_set['unit_sales'])\n",
    "train_set = train_set[['date','y','family']].rename(columns={'date':'ds'})"
   ]
  },
  {
   "cell_type": "code",
   "execution_count": 17,
   "metadata": {},
   "outputs": [],
   "source": [
    "cats = train_set_set.family.unique()"
   ]
  },
  {
   "cell_type": "markdown",
   "metadata": {},
   "source": [
    "## Running Predictions for Test"
   ]
  },
  {
   "cell_type": "code",
   "execution_count": 18,
   "metadata": {},
   "outputs": [],
   "source": [
    "# pred = {}\n",
    "\n",
    "# for cat in cats:\n",
    "#     df = train_set[train_set.family == cat]\n",
    "#     df = df[['ds','y']].groupby('ds').mean()\n",
    "#     df['ds'] = df.index\n",
    "#     # Fit the category with Prophet\n",
    "#     m = Prophet()\n",
    "#     m.fit(df);\n",
    "#     future = m.make_future_dataframe(periods=16,freq='D')\n",
    "#     pred[cat] = m.predict(future)"
   ]
  },
  {
   "cell_type": "code",
   "execution_count": 19,
   "metadata": {},
   "outputs": [],
   "source": [
    "#sub_test = test[(test.store_nbr == 25)].merge(items,on='item_nbr',how='left')"
   ]
  },
  {
   "cell_type": "code",
   "execution_count": 20,
   "metadata": {},
   "outputs": [],
   "source": [
    "# test = test.merge(items,on='item_nbr',how='left')"
   ]
  },
  {
   "cell_type": "code",
   "execution_count": 21,
   "metadata": {},
   "outputs": [],
   "source": [
    "# for cat in cats:\n",
    "#     try:\n",
    "#         sub1 = test[(test.family == cat) & (test.unit_sales > 0)][['date','unit_sales']]\n",
    "#         sub1 = sub1.groupby('date')[['unit_sales']].mean()\n",
    "#         sub2 = pred[cat]\n",
    "#         sub2 = sub2[sub2.ds >= '2017-08-16'][['ds','yhat']]\n",
    "#         sub1.merge(sub2,right_on='ds',left_index=True)[['unit_sales','yhat']].plot(title='{}'.format(cat))\n",
    "#     except:\n",
    "#         print sub1\n",
    "#         print sub2\n",
    "#         print \"{}\".format(cat)"
   ]
  },
  {
   "cell_type": "code",
   "execution_count": 22,
   "metadata": {},
   "outputs": [],
   "source": [
    "# import pickle\n",
    "\n",
    "# output = open('data/generated/prophet_test_forecast.pkl', 'wb')\n",
    "# pickle.dump(pred, output)\n",
    "# output.close()"
   ]
  },
  {
   "cell_type": "markdown",
   "metadata": {},
   "source": [
    "# Run Prophet model for each month / category combo"
   ]
  },
  {
   "cell_type": "code",
   "execution_count": 23,
   "metadata": {},
   "outputs": [],
   "source": [
    "# TO-DO!\n",
    "# for each category create a Prophet model\n",
    "## run for test set - DONE\n",
    "## run for train set - RUNNING\n",
    "\n",
    "# add rolling means info\n",
    "## run for test set\n",
    "## run for train set\n",
    "\n",
    "# merge together rolling means + prophet\n",
    "\n",
    "# cross validate performance\n",
    "## run for last year in 2 week intervals"
   ]
  },
  {
   "cell_type": "code",
   "execution_count": 24,
   "metadata": {},
   "outputs": [],
   "source": [
    "#sub_train = train_set[train_set.ds >= '2016-08-16']\n",
    "train_set['ds'] = pd.to_datetime(train_set['ds'])"
   ]
  },
  {
   "cell_type": "code",
   "execution_count": 34,
   "metadata": {},
   "outputs": [],
   "source": [
    "months = pd.date_range('2016-12-01','2017-09-01',freq='M')"
   ]
  },
  {
   "cell_type": "code",
   "execution_count": 35,
   "metadata": {},
   "outputs": [],
   "source": [
    "import pickle"
   ]
  },
  {
   "cell_type": "code",
   "execution_count": 36,
   "metadata": {},
   "outputs": [],
   "source": [
    "#pred_train = {month:{cat: pd.DataFrame() for cat in cats} for month in months}\n",
    "\n",
    "for month in months:\n",
    "    pred_train = {cat: pd.DataFrame() for cat in cats}\n",
    "    \n",
    "    prev_subset = train_set[train_set['ds'] <= month]\n",
    "    report_month = month + pd.Timedelta('1D')\n",
    "    \n",
    "    for cat in cats:\n",
    "        df = prev_subset[prev_subset.family == cat]\n",
    "        df = df[['ds','y']].groupby('ds').mean()\n",
    "        df['ds'] = df.index\n",
    "        # Fit the category with Prophet\n",
    "        try:\n",
    "            m = Prophet()\n",
    "            m.fit(df);\n",
    "            future = m.make_future_dataframe(periods=report_month.days_in_month,freq='D')\n",
    "            mon_pred = m.predict(future)\n",
    "            pred_train[cat] = mon_pred[mon_pred.ds >= report_month]\n",
    "        except:\n",
    "            print \"{}\".format(month.date()) + ' ' + cat + \": no data points\"\n",
    "            \n",
    "    output = open('data/generated/prophet_train_{}_forecast.pkl'.format(month.month), 'wb')\n",
    "    pickle.dump(pred_train, output)\n",
    "    output.close()"
   ]
  },
  {
   "cell_type": "code",
   "execution_count": null,
   "metadata": {},
   "outputs": [],
   "source": []
  }
 ],
 "metadata": {
  "anaconda-cloud": {},
  "kernelspec": {
   "display_name": "Python [Root]",
   "language": "python",
   "name": "Python [Root]"
  },
  "language_info": {
   "codemirror_mode": {
    "name": "ipython",
    "version": 2
   },
   "file_extension": ".py",
   "mimetype": "text/x-python",
   "name": "python",
   "nbconvert_exporter": "python",
   "pygments_lexer": "ipython2",
   "version": "2.7.11"
  },
  "toc": {
   "nav_menu": {},
   "number_sections": true,
   "sideBar": true,
   "skip_h1_title": false,
   "toc_cell": false,
   "toc_position": {},
   "toc_section_display": "block",
   "toc_window_display": false
  }
 },
 "nbformat": 4,
 "nbformat_minor": 1
}
